{
 "cells": [
  {
   "cell_type": "code",
   "execution_count": 4,
   "id": "a7f9cb8a-5969-4e2c-ae51-6ce88de727a0",
   "metadata": {},
   "outputs": [],
   "source": [
    "# Definir el nombre del grafo que deseas agregar\n",
    "grafo = \"<https://um.es/graph/ResistenciaMicrobiana>\"\n",
    "\n",
    "# Abrir el archivo de entrada (n-triples.nt) \n",
    "with open('n-triples.nt', 'r') as input_file:\n",
    "    lines = input_file.readlines()\n",
    "\n",
    "# Abrir el archivo de salida (n-triples-with-graph.nt) en modo de escritura\n",
    "with open('n-triples-with-graph.nt', 'w') as output_file:\n",
    "    for line in lines:\n",
    "        # Eliminar el punto final de cada línea (si existe)\n",
    "        if line.endswith('.\\n'):\n",
    "            line = line[:-2]  # Elimina el punto y el salto de línea\n",
    "        # Añadir el nombre del grafo\n",
    "        line = f\"{line} {grafo} .\\n\"\n",
    "        output_file.write(line)"
   ]
  },
  {
   "cell_type": "code",
   "execution_count": null,
   "id": "0642bf91-20ba-410e-b4da-7fb8a36b0f62",
   "metadata": {},
   "outputs": [],
   "source": []
  }
 ],
 "metadata": {
  "kernelspec": {
   "display_name": "Python3.8",
   "language": "python",
   "name": "python3.8"
  },
  "language_info": {
   "codemirror_mode": {
    "name": "ipython",
    "version": 3
   },
   "file_extension": ".py",
   "mimetype": "text/x-python",
   "name": "python",
   "nbconvert_exporter": "python",
   "pygments_lexer": "ipython3",
   "version": "3.8.3"
  }
 },
 "nbformat": 4,
 "nbformat_minor": 5
}
